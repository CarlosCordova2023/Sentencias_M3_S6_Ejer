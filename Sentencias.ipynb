{
  "nbformat": 4,
  "nbformat_minor": 0,
  "metadata": {
    "colab": {
      "provenance": [],
      "authorship_tag": "ABX9TyMJV5mG44cwVXNbwOYPYX/0",
      "include_colab_link": true
    },
    "kernelspec": {
      "name": "python3",
      "display_name": "Python 3"
    },
    "language_info": {
      "name": "python"
    }
  },
  "cells": [
    {
      "cell_type": "markdown",
      "metadata": {
        "id": "view-in-github",
        "colab_type": "text"
      },
      "source": [
        "<a href=\"https://colab.research.google.com/github/CarlosCordova2023/Sentencias_M3_S6_Ejer/blob/main/Sentencias.ipynb\" target=\"_parent\"><img src=\"https://colab.research.google.com/assets/colab-badge.svg\" alt=\"Open In Colab\"/></a>"
      ]
    },
    {
      "cell_type": "code",
      "execution_count": 2,
      "metadata": {
        "colab": {
          "base_uri": "https://localhost:8080/"
        },
        "id": "MunfSKnxV2-U",
        "outputId": "4df75180-b663-4a71-87cb-4cda3811b75c"
      },
      "outputs": [
        {
          "output_type": "stream",
          "name": "stdout",
          "text": [
            "Ingrese un número: 5698751366\n",
            "El número es positivo.\n",
            "El número es par.\n"
          ]
        }
      ],
      "source": [
        "\n",
        "numero = int(input(\"Ingrese un número: \"))\n",
        "\n",
        "# Analizar si el número es positivo, negativo o cero\n",
        "if numero > 0:\n",
        "    print(\"El número es positivo.\")\n",
        "\n",
        "    if numero % 2 == 0:\n",
        "        print(\"El número es par.\")\n",
        "    else:\n",
        "        print(\"El número es impar.\")\n",
        "elif numero < 0:\n",
        "    print(\"El número es negativo.\")\n",
        "\n",
        "    if numero % 2 == 0:\n",
        "        print(\"El número es par.\")\n",
        "    else:\n",
        "        print(\"El número es impar.\")\n",
        "else:\n",
        "    print(\"El número es cero.\")\n"
      ]
    }
  ]
}